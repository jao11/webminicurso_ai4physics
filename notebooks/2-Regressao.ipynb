{
 "cells": [
  {
   "cell_type": "markdown",
   "id": "e23165e7",
   "metadata": {},
   "source": [
    "# Regressão\n",
    "\n",
    "A tarefa de **regressão** consiste em predizer **valores** para determinados **objetos**. Vamos contextualizar de maneira operacional esses objetos e valores através de seus tipos de variáveis: em geral um valor é um número real <code>(float)</code> ou um inteiro <code>(int)</code>; já o objeto a ser regredido pode ser um **vetor de features** - aqui vetor tem o mesmo sentido de uma variável lista <code>(lst)</code> ou uma tupla <code>(tuple)</code>. \n",
    "\n",
    "Diferentes **algoritmos de regressão** podem ser usados para realizar essa tarefa de, dada uma entrada, gerar uma saída (valor predito para aquele objeto).\n",
    "\n",
    "Define-se a regressão como uma tarefa de **aprendizado de máquina supervisionado**, isto é, os algoritmos de regressão precisam ser treinados com pares objeto-valor tidos como associações corretas. Somente após o treinamento é que o algoritmo de regressão estará apto a predizer valores para novas entradas (das quais não se sabe o valor a princípio) - diz-se que  algoritmo aprendeu o padrão nos dados de treinamento e agora pode ser usado para predizr o valor de saída para novas entradas.\n",
    "\n",
    "-----------------------------------------------"
   ]
  },
  {
   "cell_type": "markdown",
   "id": "b3b7afc3",
   "metadata": {},
   "source": [
    "## 1 - IArpi Data Set\n",
    "\n",
    "#### Descrição geral:\n",
    "Três diferentes objetos são postos a se mover em um plano inclinado devido a ação da gravidade. Atributos cinemáticos do movimento dos corpos são coletados. Pretende-se estabelecer uma relação entre esses atributos e cada tipo de objeto.\n",
    "\n",
    "#### Objetivo:\n",
    "O problema consiste na predição da velocidade média de três objetos (esfera, cilindro e aro) a partir da sua altura inicial em um plano inclinado a um determinado ângulo. O objetivo é introduzir técnicas de IA para cursos de graduação de física onde o experimento do plano inclinado é amplamente estudado (de maneira teórica e em laboratório).\n",
    "\n",
    "\n",
    "#### Features (variáveis de entrada):\n",
    "As features foram determinadas experimentalmente:\n",
    "- Ângulo: ângulo de inclinação do plano [°]\n",
    "- Altura: de partida do objeto [m]\n",
    "- Tipo de objeto (esfera, cilindro, aro)\n",
    "\n",
    "#### Alvo (valor de saída):\n",
    "- Velocidade Média: velocidade média determinada pela distância/tempo [m/s]\n",
    "\n",
    "#### Referências:\n",
    "- https://github.com/simcomat/IArpi\n",
    "- Ferreira, H., Almeida Junior, E. F., Espinosa-García, W., Novais, E., Rodrigues, J. N. B., & Dalpian, G. M. (2022). Introduzindo aprendizado de máquina em cursos de física: o caso do rolamento no plano inclinado. In Revista Brasileira de Ensino de Física (Vol. 44). FapUNIFESP (SciELO). https://doi.org/10.1590/1806-9126-rbef-2022-0214 "
   ]
  },
  {
   "cell_type": "code",
   "execution_count": 18,
   "id": "2be16f90",
   "metadata": {},
   "outputs": [],
   "source": [
    "import pandas as pd # Para trabalhar com dados na forma de tabela\n",
    "\n",
    "from sklearn.model_selection import train_test_split   # Separação treino/teste\n",
    "from sklearn.preprocessing import MinMaxScaler         # Escalonador\n",
    "\n",
    "# Algoritmos de Regressão\n",
    "from sklearn.linear_model import LinearRegression      # Regressao Linear\n",
    "from sklearn.svm import SVR                            # Regressão por Máquina de Vetor Suporte\n",
    "from sklearn.tree import DecisionTreeRegressor         # Regressão por Árvore de Decisão\n",
    "from sklearn.neighbors import KNeighborsRegressor      # k-vizinhos mais próximos (KNN)\n",
    "from sklearn.ensemble import RandomForestRegressor     # RandomForest\n",
    "from sklearn.ensemble import GradientBoostingRegressor # GradientBoosting\n",
    "from sklearn.neural_network import MLPRegressor        # Multilayer Perceptron\n",
    "\n",
    "\n",
    "# Módulos para plotar gráficos e ajustar formatação dos mesmos\n",
    "import matplotlib.pyplot as plt\n",
    "import matplotlib.transforms as mtransforms\n",
    "from matplotlib.ticker import AutoMinorLocator\n",
    "from matplotlib.lines import Line2D\n",
    "import seaborn as sns"
   ]
  },
  {
   "cell_type": "markdown",
   "id": "48bcb4a3",
   "metadata": {},
   "source": [
    "### 1 - Primeiro passo: carregando os dados"
   ]
  },
  {
   "cell_type": "code",
   "execution_count": 10,
   "id": "87ed8674",
   "metadata": {},
   "outputs": [],
   "source": [
    "tabela_dados = pd.read_csv('https://raw.githubusercontent.com/simcomat/IArpi/main/datasets/rolling.csv', sep=';') "
   ]
  },
  {
   "cell_type": "code",
   "execution_count": 11,
   "id": "b5580873",
   "metadata": {},
   "outputs": [
    {
     "data": {
      "text/html": [
       "<div>\n",
       "<style scoped>\n",
       "    .dataframe tbody tr th:only-of-type {\n",
       "        vertical-align: middle;\n",
       "    }\n",
       "\n",
       "    .dataframe tbody tr th {\n",
       "        vertical-align: top;\n",
       "    }\n",
       "\n",
       "    .dataframe thead th {\n",
       "        text-align: right;\n",
       "    }\n",
       "</style>\n",
       "<table border=\"1\" class=\"dataframe\">\n",
       "  <thead>\n",
       "    <tr style=\"text-align: right;\">\n",
       "      <th></th>\n",
       "      <th>Objeto</th>\n",
       "      <th>Ângulo (°)</th>\n",
       "      <th>Distancia (m)</th>\n",
       "      <th>Altura (m)</th>\n",
       "      <th>Tempo (s)</th>\n",
       "      <th>Velocidade Média (m/s)</th>\n",
       "    </tr>\n",
       "  </thead>\n",
       "  <tbody>\n",
       "    <tr>\n",
       "      <th>0</th>\n",
       "      <td>esfera</td>\n",
       "      <td>7.73</td>\n",
       "      <td>1.0</td>\n",
       "      <td>0.134505</td>\n",
       "      <td>1.33</td>\n",
       "      <td>0.751880</td>\n",
       "    </tr>\n",
       "    <tr>\n",
       "      <th>1</th>\n",
       "      <td>esfera</td>\n",
       "      <td>7.73</td>\n",
       "      <td>1.0</td>\n",
       "      <td>0.134505</td>\n",
       "      <td>1.49</td>\n",
       "      <td>0.671141</td>\n",
       "    </tr>\n",
       "    <tr>\n",
       "      <th>2</th>\n",
       "      <td>esfera</td>\n",
       "      <td>7.73</td>\n",
       "      <td>1.0</td>\n",
       "      <td>0.134505</td>\n",
       "      <td>1.49</td>\n",
       "      <td>0.671141</td>\n",
       "    </tr>\n",
       "    <tr>\n",
       "      <th>3</th>\n",
       "      <td>esfera</td>\n",
       "      <td>7.73</td>\n",
       "      <td>1.0</td>\n",
       "      <td>0.134505</td>\n",
       "      <td>1.40</td>\n",
       "      <td>0.714286</td>\n",
       "    </tr>\n",
       "    <tr>\n",
       "      <th>4</th>\n",
       "      <td>esfera</td>\n",
       "      <td>7.73</td>\n",
       "      <td>1.0</td>\n",
       "      <td>0.134505</td>\n",
       "      <td>1.31</td>\n",
       "      <td>0.763359</td>\n",
       "    </tr>\n",
       "  </tbody>\n",
       "</table>\n",
       "</div>"
      ],
      "text/plain": [
       "   Objeto  Ângulo (°)  Distancia (m)  Altura (m)  Tempo (s)  \\\n",
       "0  esfera        7.73            1.0    0.134505       1.33   \n",
       "1  esfera        7.73            1.0    0.134505       1.49   \n",
       "2  esfera        7.73            1.0    0.134505       1.49   \n",
       "3  esfera        7.73            1.0    0.134505       1.40   \n",
       "4  esfera        7.73            1.0    0.134505       1.31   \n",
       "\n",
       "   Velocidade Média (m/s)  \n",
       "0                0.751880  \n",
       "1                0.671141  \n",
       "2                0.671141  \n",
       "3                0.714286  \n",
       "4                0.763359  "
      ]
     },
     "execution_count": 11,
     "metadata": {},
     "output_type": "execute_result"
    }
   ],
   "source": [
    "tabela_dados.head()"
   ]
  },
  {
   "cell_type": "code",
   "execution_count": 12,
   "id": "0904cf42",
   "metadata": {},
   "outputs": [
    {
     "name": "stdout",
     "output_type": "stream",
     "text": [
      "<class 'pandas.core.frame.DataFrame'>\n",
      "RangeIndex: 803 entries, 0 to 802\n",
      "Data columns (total 6 columns):\n",
      " #   Column                  Non-Null Count  Dtype  \n",
      "---  ------                  --------------  -----  \n",
      " 0   Objeto                  803 non-null    object \n",
      " 1   Ângulo (°)              803 non-null    float64\n",
      " 2   Distancia (m)           803 non-null    float64\n",
      " 3   Altura (m)              803 non-null    float64\n",
      " 4   Tempo (s)               803 non-null    float64\n",
      " 5   Velocidade Média (m/s)  803 non-null    float64\n",
      "dtypes: float64(5), object(1)\n",
      "memory usage: 37.8+ KB\n"
     ]
    }
   ],
   "source": [
    "tabela_dados.info()"
   ]
  },
  {
   "cell_type": "markdown",
   "id": "42c73a47",
   "metadata": {},
   "source": [
    "### 1 - Segundo passo: separação de dados\n",
    "\n",
    "Os algoritmos de regressão não estão preparados para receber um nome (string) como entrada. Então, apenas fornecer o nome do objeto (esfera, cilindro, aro) para o modelo não irá funcionar. Precisamos primeiro converter esses nomes em uma representação numérica. Para isso vamos usar o **OneHot Encoding**. Nessa representação, cada valor do atributo objeto torna-se uma característica única (feature). Para 3 valores de objetos teremos 3 novas colunas com valores binários (verdadeiro ou falso, 1 ou 0) representando cada objeto, por exemplo, se seguirmos (esfera, cilindro, aro) uma esfera será representada pela tupla (1,0,0) enquanto um aro será por (0,0,1). Fisicamente, misturas não seriam possiveis como uma esfera-aro (1,0,1), mas em outras situações essa técnica pode ser usada para representar a presença de mais um objeto (como duas palavras diferentes em uma mesma frase)."
   ]
  },
  {
   "cell_type": "code",
   "execution_count": 13,
   "id": "4a3e64e9",
   "metadata": {},
   "outputs": [],
   "source": [
    "ohe = pd.get_dummies(tabela_dados.Objeto, prefix='objeto') # One hot encoding\n",
    "tabela_dados = tabela_dados.join(ohe)"
   ]
  },
  {
   "cell_type": "code",
   "execution_count": 14,
   "id": "9be7c595",
   "metadata": {},
   "outputs": [
    {
     "data": {
      "text/html": [
       "<div>\n",
       "<style scoped>\n",
       "    .dataframe tbody tr th:only-of-type {\n",
       "        vertical-align: middle;\n",
       "    }\n",
       "\n",
       "    .dataframe tbody tr th {\n",
       "        vertical-align: top;\n",
       "    }\n",
       "\n",
       "    .dataframe thead th {\n",
       "        text-align: right;\n",
       "    }\n",
       "</style>\n",
       "<table border=\"1\" class=\"dataframe\">\n",
       "  <thead>\n",
       "    <tr style=\"text-align: right;\">\n",
       "      <th></th>\n",
       "      <th>Objeto</th>\n",
       "      <th>Ângulo (°)</th>\n",
       "      <th>Distancia (m)</th>\n",
       "      <th>Altura (m)</th>\n",
       "      <th>Tempo (s)</th>\n",
       "      <th>Velocidade Média (m/s)</th>\n",
       "      <th>objeto_aro</th>\n",
       "      <th>objeto_cilindro</th>\n",
       "      <th>objeto_esfera</th>\n",
       "    </tr>\n",
       "  </thead>\n",
       "  <tbody>\n",
       "    <tr>\n",
       "      <th>0</th>\n",
       "      <td>esfera</td>\n",
       "      <td>7.73</td>\n",
       "      <td>1.0</td>\n",
       "      <td>0.134505</td>\n",
       "      <td>1.33</td>\n",
       "      <td>0.751880</td>\n",
       "      <td>0</td>\n",
       "      <td>0</td>\n",
       "      <td>1</td>\n",
       "    </tr>\n",
       "    <tr>\n",
       "      <th>1</th>\n",
       "      <td>esfera</td>\n",
       "      <td>7.73</td>\n",
       "      <td>1.0</td>\n",
       "      <td>0.134505</td>\n",
       "      <td>1.49</td>\n",
       "      <td>0.671141</td>\n",
       "      <td>0</td>\n",
       "      <td>0</td>\n",
       "      <td>1</td>\n",
       "    </tr>\n",
       "    <tr>\n",
       "      <th>2</th>\n",
       "      <td>esfera</td>\n",
       "      <td>7.73</td>\n",
       "      <td>1.0</td>\n",
       "      <td>0.134505</td>\n",
       "      <td>1.49</td>\n",
       "      <td>0.671141</td>\n",
       "      <td>0</td>\n",
       "      <td>0</td>\n",
       "      <td>1</td>\n",
       "    </tr>\n",
       "    <tr>\n",
       "      <th>3</th>\n",
       "      <td>esfera</td>\n",
       "      <td>7.73</td>\n",
       "      <td>1.0</td>\n",
       "      <td>0.134505</td>\n",
       "      <td>1.40</td>\n",
       "      <td>0.714286</td>\n",
       "      <td>0</td>\n",
       "      <td>0</td>\n",
       "      <td>1</td>\n",
       "    </tr>\n",
       "    <tr>\n",
       "      <th>4</th>\n",
       "      <td>esfera</td>\n",
       "      <td>7.73</td>\n",
       "      <td>1.0</td>\n",
       "      <td>0.134505</td>\n",
       "      <td>1.31</td>\n",
       "      <td>0.763359</td>\n",
       "      <td>0</td>\n",
       "      <td>0</td>\n",
       "      <td>1</td>\n",
       "    </tr>\n",
       "  </tbody>\n",
       "</table>\n",
       "</div>"
      ],
      "text/plain": [
       "   Objeto  Ângulo (°)  Distancia (m)  Altura (m)  Tempo (s)  \\\n",
       "0  esfera        7.73            1.0    0.134505       1.33   \n",
       "1  esfera        7.73            1.0    0.134505       1.49   \n",
       "2  esfera        7.73            1.0    0.134505       1.49   \n",
       "3  esfera        7.73            1.0    0.134505       1.40   \n",
       "4  esfera        7.73            1.0    0.134505       1.31   \n",
       "\n",
       "   Velocidade Média (m/s)  objeto_aro  objeto_cilindro  objeto_esfera  \n",
       "0                0.751880           0                0              1  \n",
       "1                0.671141           0                0              1  \n",
       "2                0.671141           0                0              1  \n",
       "3                0.714286           0                0              1  \n",
       "4                0.763359           0                0              1  "
      ]
     },
     "execution_count": 14,
     "metadata": {},
     "output_type": "execute_result"
    }
   ],
   "source": [
    "tabela_dados.head()"
   ]
  },
  {
   "cell_type": "code",
   "execution_count": 17,
   "id": "2b5f0b8a",
   "metadata": {},
   "outputs": [],
   "source": [
    "x = tabela_dados[['Altura (m)','Ângulo (°)', 'objeto_aro', 'objeto_cilindro','objeto_esfera']] \n",
    "y = tabela_dados['Velocidade Média (m/s)'] # Atributo alvo\n",
    "\n",
    "# Dividindo conjunto de treinamento e conjunto de teste\n",
    "x_train, x_test, y_train, y_test = train_test_split(x, y, test_size = 0.20, random_state = 42)"
   ]
  },
  {
   "cell_type": "markdown",
   "id": "de54b1cb",
   "metadata": {},
   "source": [
    "### 1 - Terceiro passo: transformação dos dados\n",
    "\n",
    "**OBS:** perceba que nem sempre a transformação ocorre apenas no terceiro passo. Tivemos que fazer uma transformação usando o One Hot Encoding (OHE) no segundo passo. A troca da ordem neste caso foi feita para facilitar a etapa de separação (não ter que filtrar a coluna objeto após transformar via OHE."
   ]
  },
  {
   "cell_type": "code",
   "execution_count": 19,
   "id": "b4fc3b92",
   "metadata": {},
   "outputs": [],
   "source": [
    "scaler = MinMaxScaler()\n",
    "scaler.fit(x_train)\n",
    "\n",
    "x_train_scaled = scaler.transform(x_train)\n",
    "x_test_scaled = scaler.transform(x_test)"
   ]
  },
  {
   "cell_type": "markdown",
   "id": "c62ea89e",
   "metadata": {},
   "source": [
    "### 1 - Quarto passo: treinando os algoritmos de regressão"
   ]
  },
  {
   "cell_type": "code",
   "execution_count": 20,
   "id": "2260cb35",
   "metadata": {},
   "outputs": [],
   "source": [
    "# Regressao Linear\n",
    "lr = LinearRegression()\n",
    "lr.fit(x_train_scaled,y_train)\n",
    "\n",
    "# KNN Regressor\n",
    "knnr = KNeighborsRegressor()\n",
    "knnr.fit(x_train_scaled,y_train)\n",
    "\n",
    "# SVM\n",
    "svmr = SVR()\n",
    "svmr.fit(x_train_scaled,y_train)\n",
    "\n",
    "# Regressão por Árvore de Decisão\n",
    "dtr = DecisionTreeRegressor()\n",
    "dtr.fit(x_train_scaled,y_train)\n",
    "\n",
    "# Regressão por Random\n",
    "rfr = RandomForestRegressor(random_state=42)\n",
    "rfr.fit(x_train_scaled, y_train)\n",
    "\n",
    "# Regressõ por GB\n",
    "gbr = GradientBoostingRegressor(random_state=42)\n",
    "gbr.fit(x_train_scaled, y_train)\n",
    "\n",
    "# Multilayer Perceptron\n",
    "mlpr =  MLPRegressor(random_state=42)\n",
    "mlpr.fit(x_train_scaled,y_train)\n",
    "\n",
    "regressores = {\n",
    "    'LR':lr,\n",
    "    'KNNR':knnr,\n",
    "    'SVMR':svmr,\n",
    "    'RFR':rfr,\n",
    "    'GBR':gbr,\n",
    "    'MLPR':mlpr,\n",
    "}"
   ]
  },
  {
   "cell_type": "markdown",
   "id": "4a83c294",
   "metadata": {},
   "source": [
    "### 1 - Quinto passo: avaliar o desempenho"
   ]
  },
  {
   "cell_type": "code",
   "execution_count": 21,
   "id": "6822523e",
   "metadata": {},
   "outputs": [],
   "source": [
    "from sklearn.metrics import mean_absolute_error, r2_score       # Métricas de Regressão"
   ]
  },
  {
   "cell_type": "code",
   "execution_count": null,
   "id": "993444ff",
   "metadata": {},
   "outputs": [],
   "source": [
    "resultados={}\n",
    "resultados_MAE={}\n",
    "resultados_R2={}\n",
    "\n",
    "for rg_name, rg in regressores.items():\n",
    "    \n",
    "    y_pred = rg.predict(x_test_scaled)        # Entrando os dados de teste no modelo ML\n",
    "    mae = mean_absolute_error(y_test, y_pred) # Calculando métrica MAE\n",
    "    r2 = r2_score(y_test, y_pred)             # Calculando métrica R2\n",
    "    \n",
    "    # Salvando resultados\n",
    "    scoring = {'MAE': mae,\n",
    "               'R2' :r2\n",
    "         }\n",
    "    resultados[rg_name]=scoring\n",
    "    resultados_MAE[rg_name]=mae\n",
    "    resultados_R2[rg_name]=r2"
   ]
  }
 ],
 "metadata": {
  "kernelspec": {
   "display_name": "Python 3",
   "language": "python",
   "name": "python3"
  },
  "language_info": {
   "codemirror_mode": {
    "name": "ipython",
    "version": 3
   },
   "file_extension": ".py",
   "mimetype": "text/x-python",
   "name": "python",
   "nbconvert_exporter": "python",
   "pygments_lexer": "ipython3",
   "version": "3.9.5"
  }
 },
 "nbformat": 4,
 "nbformat_minor": 5
}
